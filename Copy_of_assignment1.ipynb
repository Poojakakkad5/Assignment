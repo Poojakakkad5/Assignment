{
  "nbformat": 4,
  "nbformat_minor": 0,
  "metadata": {
    "colab": {
      "provenance": []
    },
    "kernelspec": {
      "name": "python3",
      "display_name": "Python 3"
    },
    "language_info": {
      "name": "python"
    }
  },
  "cells": [
    {
      "cell_type": "code",
      "execution_count": null,
      "metadata": {
        "id": "r0ATP1-jbOxd"
      },
      "outputs": [],
      "source": [
        "x=int(input(\"enter the value of x\"))\n",
        "y=int(input(\"enter the value of y\"))\n",
        "z=int(input(\"enter the value of z\"))\n",
        "\n",
        "if x>y and x>z:\n",
        "  print(\"x is greater\")\n",
        "\n",
        "elif y>x and y>z:\n",
        "  print(\"y is greater\")\n",
        "\n",
        "else:\n",
        "  print(\"z is greater\")"
      ]
    },
    {
      "cell_type": "code",
      "source": [
        "\n",
        "\n",
        "ch=str(input(\"enter an alphabet\"))\n",
        "\n",
        "if ch=='a' or ch=='e'or ch=='i' or ch=='o'or ch=='u':\n",
        "    print(\"given character is a vowel\")\n",
        "\n",
        "elif ch=='h' or ch=='y':\n",
        "    print(\"given character is an exception\")\n",
        "\n",
        "else:\n",
        "    print(\"given character is a consonant\")"
      ],
      "metadata": {
        "id": "UZmk_iKBcb8Q",
        "colab": {
          "base_uri": "https://localhost:8080/"
        },
        "outputId": "1337bb36-9d08-4585-962c-13310ba3bffb"
      },
      "execution_count": null,
      "outputs": [
        {
          "output_type": "stream",
          "name": "stdout",
          "text": [
            "enter an alphabeth\n",
            "given character is an exception\n"
          ]
        }
      ]
    },
    {
      "cell_type": "code",
      "source": [
        "x=int(input(\"enter the value of x\"))\n",
        "\n",
        "if x%2==0 and x%3==0:\n",
        "    print (\"x is divisible by 2 and 3 both\")\n",
        "\n",
        "else:\n",
        "    print(\"x is not divible by both 2 and 3\")"
      ],
      "metadata": {
        "id": "dRQdwFEMfMHH",
        "colab": {
          "base_uri": "https://localhost:8080/"
        },
        "outputId": "c75a6acc-8446-4b62-e176-1742f28faffb"
      },
      "execution_count": null,
      "outputs": [
        {
          "output_type": "stream",
          "name": "stdout",
          "text": [
            "enter the value of x289\n",
            "x is not divible by both 2 and 3\n"
          ]
        }
      ]
    },
    {
      "cell_type": "code",
      "source": [
        "cp=int(input(\"enter the cost price of your bike\"))\n",
        "\n",
        "if cp>=100000:\n",
        "   tax=0.15*cp\n",
        "   print(\"your payable tax is\", tax)\n",
        "\n",
        "elif cp>=50000 and cp<100000:\n",
        "    tax=0.1*cp\n",
        "    print(\"your payable tax value is\", tax)\n",
        "\n",
        "else:\n",
        "    tax=0.05*cp\n",
        "    print(\"your tax value is\", tax)"
      ],
      "metadata": {
        "id": "ACAgBrMIleWU",
        "colab": {
          "base_uri": "https://localhost:8080/"
        },
        "outputId": "bbf2dc47-9c61-41fb-ddad-166f56c6de54"
      },
      "execution_count": null,
      "outputs": [
        {
          "output_type": "stream",
          "name": "stdout",
          "text": [
            "enter the cost price of your bike100\n",
            "your tax value is 5.0\n"
          ]
        }
      ]
    },
    {
      "cell_type": "code",
      "source": [
        "units=int(input(\"enter the number of units consumed\"))\n",
        "\n",
        "if units<=100:\n",
        "   print(\"no charges to be paid\")\n",
        "\n",
        "elif units>100 and units<=200:\n",
        "   print(\"your electricity bill is\", 5*units)\n",
        "\n",
        "else:\n",
        "   print(\"your electricity bills is\", 10*units)"
      ],
      "metadata": {
        "colab": {
          "base_uri": "https://localhost:8080/"
        },
        "id": "l8hj0V1lmxk5",
        "outputId": "fe9c360e-f586-4463-abd8-90c8a5c667d9"
      },
      "execution_count": null,
      "outputs": [
        {
          "output_type": "stream",
          "name": "stdout",
          "text": [
            "enter the number of units consumed135\n",
            "your electricity bill is 675\n"
          ]
        }
      ]
    }
  ]
}